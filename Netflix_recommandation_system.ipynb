{
  "nbformat": 4,
  "nbformat_minor": 0,
  "metadata": {
    "colab": {
      "name": "Netflix_recommandation_system",
      "provenance": [],
      "collapsed_sections": []
    },
    "kernelspec": {
      "name": "python3",
      "display_name": "Python 3"
    },
    "language_info": {
      "name": "python"
    }
  },
  "cells": [
    {
      "cell_type": "markdown",
      "metadata": {
        "id": "vIDoWmmnuKkd"
      },
      "source": [
        "# Import libraries \n"
      ]
    },
    {
      "cell_type": "code",
      "metadata": {
        "id": "JkTS_GHStzRE",
        "colab": {
          "base_uri": "https://localhost:8080/",
          "height": 17
        },
        "outputId": "642022f6-f959-451a-f367-f20cf42134de"
      },
      "source": [
        "# Basic libraries\n",
        "import numpy as np\n",
        "import pandas as pd \n",
        "#Visualisation\n",
        "import matplotlib.pyplot as plt\n",
        "import seaborn as sns\n",
        "sns.set_style(\"whitegrid\")\n",
        "import plotly.offline as py\n",
        "from plotly.offline import iplot, init_notebook_mode\n",
        "import plotly.graph_objs as go\n",
        "import cufflinks as cf   \n",
        "import plotly.offline  \n",
        "cf.go_offline()  \n",
        "cf.set_config_file(offline=False, world_readable=True)\n",
        "#"
      ],
      "execution_count": 1,
      "outputs": [
        {
          "output_type": "display_data",
          "data": {
            "text/html": [
              "        <script type=\"text/javascript\">\n",
              "        window.PlotlyConfig = {MathJaxConfig: 'local'};\n",
              "        if (window.MathJax) {MathJax.Hub.Config({SVG: {font: \"STIX-Web\"}});}\n",
              "        if (typeof require !== 'undefined') {\n",
              "        require.undef(\"plotly\");\n",
              "        requirejs.config({\n",
              "            paths: {\n",
              "                'plotly': ['https://cdn.plot.ly/plotly-latest.min']\n",
              "            }\n",
              "        });\n",
              "        require(['plotly'], function(Plotly) {\n",
              "            window._Plotly = Plotly;\n",
              "        });\n",
              "        }\n",
              "        </script>\n",
              "        "
            ]
          },
          "metadata": {}
        }
      ]
    },
    {
      "cell_type": "markdown",
      "metadata": {
        "id": "qbVTGkHSvtPk"
      },
      "source": [
        "# Load the Dataset"
      ]
    },
    {
      "cell_type": "code",
      "metadata": {
        "id": "XV9GJU8ZvscD",
        "colab": {
          "base_uri": "https://localhost:8080/",
          "height": 289
        },
        "outputId": "5181231d-8b19-475d-d7f3-180cb8389c99"
      },
      "source": [
        "df=pd.read_csv('/content/drive/MyDrive/Colab Notebooks/Netflix_recommandation_system/netflix_titles.csv')\n",
        "df.head()"
      ],
      "execution_count": 2,
      "outputs": [
        {
          "output_type": "execute_result",
          "data": {
            "text/html": [
              "<div>\n",
              "<style scoped>\n",
              "    .dataframe tbody tr th:only-of-type {\n",
              "        vertical-align: middle;\n",
              "    }\n",
              "\n",
              "    .dataframe tbody tr th {\n",
              "        vertical-align: top;\n",
              "    }\n",
              "\n",
              "    .dataframe thead th {\n",
              "        text-align: right;\n",
              "    }\n",
              "</style>\n",
              "<table border=\"1\" class=\"dataframe\">\n",
              "  <thead>\n",
              "    <tr style=\"text-align: right;\">\n",
              "      <th></th>\n",
              "      <th>show_id</th>\n",
              "      <th>type</th>\n",
              "      <th>title</th>\n",
              "      <th>director</th>\n",
              "      <th>cast</th>\n",
              "      <th>country</th>\n",
              "      <th>date_added</th>\n",
              "      <th>release_year</th>\n",
              "      <th>rating</th>\n",
              "      <th>duration</th>\n",
              "      <th>listed_in</th>\n",
              "      <th>description</th>\n",
              "    </tr>\n",
              "  </thead>\n",
              "  <tbody>\n",
              "    <tr>\n",
              "      <th>0</th>\n",
              "      <td>s1</td>\n",
              "      <td>TV Show</td>\n",
              "      <td>3%</td>\n",
              "      <td>NaN</td>\n",
              "      <td>João Miguel, Bianca Comparato, Michel Gomes, R...</td>\n",
              "      <td>Brazil</td>\n",
              "      <td>August 14, 2020</td>\n",
              "      <td>2020</td>\n",
              "      <td>TV-MA</td>\n",
              "      <td>4 Seasons</td>\n",
              "      <td>International TV Shows, TV Dramas, TV Sci-Fi &amp;...</td>\n",
              "      <td>In a future where the elite inhabit an island ...</td>\n",
              "    </tr>\n",
              "    <tr>\n",
              "      <th>1</th>\n",
              "      <td>s2</td>\n",
              "      <td>Movie</td>\n",
              "      <td>7:19</td>\n",
              "      <td>Jorge Michel Grau</td>\n",
              "      <td>Demián Bichir, Héctor Bonilla, Oscar Serrano, ...</td>\n",
              "      <td>Mexico</td>\n",
              "      <td>December 23, 2016</td>\n",
              "      <td>2016</td>\n",
              "      <td>TV-MA</td>\n",
              "      <td>93 min</td>\n",
              "      <td>Dramas, International Movies</td>\n",
              "      <td>After a devastating earthquake hits Mexico Cit...</td>\n",
              "    </tr>\n",
              "    <tr>\n",
              "      <th>2</th>\n",
              "      <td>s3</td>\n",
              "      <td>Movie</td>\n",
              "      <td>23:59</td>\n",
              "      <td>Gilbert Chan</td>\n",
              "      <td>Tedd Chan, Stella Chung, Henley Hii, Lawrence ...</td>\n",
              "      <td>Singapore</td>\n",
              "      <td>December 20, 2018</td>\n",
              "      <td>2011</td>\n",
              "      <td>R</td>\n",
              "      <td>78 min</td>\n",
              "      <td>Horror Movies, International Movies</td>\n",
              "      <td>When an army recruit is found dead, his fellow...</td>\n",
              "    </tr>\n",
              "    <tr>\n",
              "      <th>3</th>\n",
              "      <td>s4</td>\n",
              "      <td>Movie</td>\n",
              "      <td>9</td>\n",
              "      <td>Shane Acker</td>\n",
              "      <td>Elijah Wood, John C. Reilly, Jennifer Connelly...</td>\n",
              "      <td>United States</td>\n",
              "      <td>November 16, 2017</td>\n",
              "      <td>2009</td>\n",
              "      <td>PG-13</td>\n",
              "      <td>80 min</td>\n",
              "      <td>Action &amp; Adventure, Independent Movies, Sci-Fi...</td>\n",
              "      <td>In a postapocalyptic world, rag-doll robots hi...</td>\n",
              "    </tr>\n",
              "    <tr>\n",
              "      <th>4</th>\n",
              "      <td>s5</td>\n",
              "      <td>Movie</td>\n",
              "      <td>21</td>\n",
              "      <td>Robert Luketic</td>\n",
              "      <td>Jim Sturgess, Kevin Spacey, Kate Bosworth, Aar...</td>\n",
              "      <td>United States</td>\n",
              "      <td>January 1, 2020</td>\n",
              "      <td>2008</td>\n",
              "      <td>PG-13</td>\n",
              "      <td>123 min</td>\n",
              "      <td>Dramas</td>\n",
              "      <td>A brilliant group of students become card-coun...</td>\n",
              "    </tr>\n",
              "  </tbody>\n",
              "</table>\n",
              "</div>"
            ],
            "text/plain": [
              "  show_id  ...                                        description\n",
              "0      s1  ...  In a future where the elite inhabit an island ...\n",
              "1      s2  ...  After a devastating earthquake hits Mexico Cit...\n",
              "2      s3  ...  When an army recruit is found dead, his fellow...\n",
              "3      s4  ...  In a postapocalyptic world, rag-doll robots hi...\n",
              "4      s5  ...  A brilliant group of students become card-coun...\n",
              "\n",
              "[5 rows x 12 columns]"
            ]
          },
          "metadata": {},
          "execution_count": 2
        }
      ]
    },
    {
      "cell_type": "markdown",
      "metadata": {
        "id": "W8VM0YHiRaOQ"
      },
      "source": [
        "### Variable prensentation\n",
        "Here are all the columns of the DataSet :  \n",
        "\n",
        "<li> show_id : Id of the Netflix item, type : str                  \n",
        "<li> type : \"Movie\" or \" TV shows\" only, type : str \n",
        "<li>title: Name of the item, type : str\n",
        "<li>director: Name of the director of the item, type : str\n",
        "<li>cast: Actors in the item, type : str            \n",
        "<li>country : Country of the item, type : str\n",
        "<li>date_added : Date of release on Netflix, type : str\n",
        "<li>release_year : Public data of release, type : int\n",
        "<li>rating : Rating, type : str\n",
        "<li>duration: duration of the item : season for TV shows, minutes for movies, type : str\n",
        "<li>listed_in : Genre of the item, type : str\n",
        "<li>description: Details about the history of the movie, type : str\n"
      ]
    },
    {
      "cell_type": "code",
      "metadata": {
        "colab": {
          "base_uri": "https://localhost:8080/"
        },
        "id": "W9iLIuBdt4qj",
        "outputId": "383aee5e-c8f0-4273-b462-663b2115fadb"
      },
      "source": [
        "df.columns"
      ],
      "execution_count": 3,
      "outputs": [
        {
          "output_type": "execute_result",
          "data": {
            "text/plain": [
              "Index(['show_id', 'type', 'title', 'director', 'cast', 'country', 'date_added',\n",
              "       'release_year', 'rating', 'duration', 'listed_in', 'description'],\n",
              "      dtype='object')"
            ]
          },
          "metadata": {},
          "execution_count": 3
        }
      ]
    },
    {
      "cell_type": "code",
      "metadata": {
        "colab": {
          "base_uri": "https://localhost:8080/"
        },
        "id": "anGcRSt0L5wA",
        "outputId": "43db0756-3d1a-4b88-d115-b6f1381b056c"
      },
      "source": [
        "print('The DataFrame contains {} lines and {} columns. The number of movies represents the number of lines and the movies features represent the columns'.format(df.shape[0],df.shape[1]))"
      ],
      "execution_count": 4,
      "outputs": [
        {
          "output_type": "stream",
          "name": "stdout",
          "text": [
            "The DataFrame contains 7787 lines and 12 columns. The number of movies represents the number of lines and the movies features represent the columns\n"
          ]
        }
      ]
    },
    {
      "cell_type": "markdown",
      "metadata": {
        "id": "bK0y5Hw55jvA"
      },
      "source": [
        "# Exploratory Data Analysis\n",
        "### Count types of different movies"
      ]
    },
    {
      "cell_type": "code",
      "metadata": {
        "id": "pzOPQZFT5mXa",
        "colab": {
          "base_uri": "https://localhost:8080/",
          "height": 336
        },
        "outputId": "eb9dacda-3697-4a86-9785-d99f35f6d5a5"
      },
      "source": [
        "plt.figure(figsize=(5, 5))\n",
        "df['type'].value_counts().plot.pie(autopct='%1.0f%%')\n",
        "plt.legend()\n",
        "plt.title('Repartition of Items by type')"
      ],
      "execution_count": 5,
      "outputs": [
        {
          "output_type": "execute_result",
          "data": {
            "text/plain": [
              "Text(0.5, 1.0, 'Repartition of Items by type')"
            ]
          },
          "metadata": {},
          "execution_count": 5
        },
        {
          "output_type": "display_data",
          "data": {
            "image/png": "[encoded data removed]",
            "text/plain": [
              "<Figure size 360x360 with 1 Axes>"
            ]
          },
          "metadata": {}
        }
      ]
    },
    {
      "cell_type": "markdown",
      "metadata": {
        "id": "z9DNxZzTOGp4"
      },
      "source": [
        "### Visualise a calendar of items release "
      ]
    },
    {
      "cell_type": "code",
      "metadata": {
        "id": "6yAfx8nJL0lI"
      },
      "source": [
        "df_dates = df[['date_added']].dropna()\n",
        "\n",
        "df_dates['month'] = df_dates['date_added'].apply(lambda x : x.lstrip().split(' ')[0])\n",
        "df_dates['year'] = df_dates['date_added'].apply(lambda x : x.split(', ')[-1])\n",
        "mois = ['January', 'February', 'March', 'April', 'May', 'June', 'July', 'August', 'September', 'October', 'November', 'December'][::-1]"
      ],
      "execution_count": 6,
      "outputs": []
    },
    {
      "cell_type": "code",
      "metadata": {
        "id": "H_vgkOvR5mZ7",
        "colab": {
          "base_uri": "https://localhost:8080/",
          "height": 499
        },
        "outputId": "d2e3c48a-4de3-4873-9f86-c110e3076b2e"
      },
      "source": [
        "plt.figure(figsize=(10, 8))\n",
        "res = df_dates.groupby('year')['month'].value_counts().unstack().fillna(0)[mois]\n",
        "res=res.T\n",
        "plt.pcolor(res, cmap='Reds', edgecolors='white', linewidths=2) # heatmap\n",
        "plt.xticks(np.arange(0.5, len(res.columns), 1), res.columns)\n",
        "plt.yticks(np.arange(0.5, len(res.index), 1), res.index)\n",
        "\n",
        "plt.title('Items release on Netflix')\n",
        "cbar = plt.colorbar()\n",
        "cbar.ax.minorticks_on()\n",
        "plt.show()\n"
      ],
      "execution_count": 7,
      "outputs": [
        {
          "output_type": "display_data",
          "data": {
            "image/png": "[encoded data removed]",
            "text/plain": [
              "<Figure size 720x576 with 2 Axes>"
            ]
          },
          "metadata": {
            "needs_background": "light"
          }
        }
      ]
    },
    {
      "cell_type": "markdown",
      "metadata": {
        "id": "J4rUuF5JQgdX"
      },
      "source": [
        "### Evolution of the TV shows and movies release"
      ]
    },
    {
      "cell_type": "code",
      "metadata": {
        "id": "vSDSDMI-5mcb"
      },
      "source": [
        "df_movies=df[df[\"type\"] == \"Movie\"]\n",
        "df_tvshows=df[df[\"type\"] == \"TV Show\"]\n",
        "df[\"date_added\"] = pd.to_datetime(df['date_added'])\n",
        "df['year_added'] = df['date_added'].dt.year\n",
        "df['month_added'] = df['date_added'].dt.month\n"
      ],
      "execution_count": 8,
      "outputs": []
    },
    {
      "cell_type": "code",
      "metadata": {
        "id": "6L0wJAmFJPw3"
      },
      "source": [
        "df_movies['date_added']=pd.to_datetime(df_movies['date_added'])\n",
        "df_tvshows['date_added']=pd.to_datetime(df_tvshows['date_added'])\n",
        "df_movies['year_added']=df_movies['date_added'].dt.year\n",
        "df_tvshows['year_added']=df_tvshows['date_added'].dt.year"
      ],
      "execution_count": 12,
      "outputs": []
    },
    {
      "cell_type": "code",
      "metadata": {
        "colab": {
          "base_uri": "https://localhost:8080/",
          "height": 475
        },
        "id": "puIfpfWxSKPY",
        "outputId": "d0d2dd4c-a251-4b19-ce97-3fc14dadd5ef"
      },
      "source": [
        "fig = plt.figure(figsize=(10, 7))\n",
        "fig.patch.set_facecolor('white')\n",
        "ax = plt.axes()\n",
        "ax.set_facecolor(\"black\")\n",
        "df_movies[\"year_added\"].value_counts().sort_index().iloc[:-1].plot(x='index',y='year_added',label='Movies')\n",
        "df_tvshows[\"year_added\"].value_counts().sort_index().iloc[:-1].plot(x='index',y='year_added',label='TV shows',color='red')\n",
        "plt.title('Evolution of the uploaded item since the beginning')\n",
        "plt.xlabel(\"Years\", fontweight='bold')\n",
        "plt.ylabel(\"Number of items uploaded\", fontweight='bold')\n",
        "plt.legend()"
      ],
      "execution_count": 13,
      "outputs": [
        {
          "output_type": "execute_result",
          "data": {
            "text/plain": [
              "<matplotlib.legend.Legend at 0x7fd3264b98d0>"
            ]
          },
          "metadata": {},
          "execution_count": 13
        },
        {
          "output_type": "display_data",
          "data": {
            "image/png": "[encoded data removed]",
            "text/plain": [
              "<Figure size 720x504 with 1 Axes>"
            ]
          },
          "metadata": {}
        }
      ]
    },
    {
      "cell_type": "markdown",
      "metadata": {
        "id": "KYgUcWdwLxRQ"
      },
      "source": [
        "### Average duration of items \n",
        "#### Movies"
      ]
    },
    {
      "cell_type": "code",
      "metadata": {
        "id": "X_qMUZCfLjZ0"
      },
      "source": [
        "df_movies['duration']=df_movies.apply(lambda x : x['duration'].split(\" \")[0] if \"Season\" not in x['duration'] else \"\", axis = 1)\n",
        "df_movies['duration']=df_movies['duration'].astype(int)"
      ],
      "execution_count": 14,
      "outputs": []
    },
    {
      "cell_type": "code",
      "metadata": {
        "colab": {
          "base_uri": "https://localhost:8080/",
          "height": 475
        },
        "id": "3MMehcY3Ljds",
        "outputId": "3e8ef504-ee02-481a-ce6e-f9f63995968e"
      },
      "source": [
        "fig = plt.figure(figsize=(10, 7))\n",
        "fig.patch.set_facecolor('white')\n",
        "ax = plt.axes()\n",
        "ax.set_facecolor(\"black\")\n",
        "df_movies['duration'].plot(kind='density',color='red')\n",
        "plt.title('Average duration of movies on Netflix')\n",
        "plt.xlabel(\"Minutes\", fontweight='bold')\n",
        "plt.ylabel(\"Density\", fontweight='bold')\n",
        "plt.legend()\n"
      ],
      "execution_count": 15,
      "outputs": [
        {
          "output_type": "execute_result",
          "data": {
            "text/plain": [
              "<matplotlib.legend.Legend at 0x7fd326803690>"
            ]
          },
          "metadata": {},
          "execution_count": 15
        },
        {
          "output_type": "display_data",
          "data": {
            "image/png": "[encoded data removed]",
            "text/plain": [
              "<Figure size 720x504 with 1 Axes>"
            ]
          },
          "metadata": {}
        }
      ]
    },
    {
      "cell_type": "markdown",
      "metadata": {
        "id": "SMWUF60vTCt2"
      },
      "source": [
        "## Country of items"
      ]
    },
    {
      "cell_type": "code",
      "metadata": {
        "id": "EbuVlEqCTvYb"
      },
      "source": [
        "df_indic_1= df['country'].value_counts().sort_values(ascending=False)\n",
        "fig = pd.DataFrame(df_indic_1)[:10].style.background_gradient(cmap='Reds')\\\n",
        "                                .set_properties(**{'text-align':'center'})"
      ],
      "execution_count": 42,
      "outputs": []
    },
    {
      "cell_type": "code",
      "metadata": {
        "id": "cYnP_pQdLjgi",
        "colab": {
          "base_uri": "https://localhost:8080/",
          "height": 250
        },
        "outputId": "c34c83a8-2ae5-485f-b894-73f75d33cc65"
      },
      "source": [
        "fig"
      ],
      "execution_count": 43,
      "outputs": [
        {
          "output_type": "execute_result",
          "data": {
            "text/html": [
              "<style  type=\"text/css\" >\n",
              "#T_47bc23f0_1a62_11ec_9e23_0242ac1c0002row0_col0{\n",
              "            background-color:  #67000d;\n",
              "            color:  #f1f1f1;\n",
              "            text-align:  center;\n",
              "        }#T_47bc23f0_1a62_11ec_9e23_0242ac1c0002row1_col0{\n",
              "            background-color:  #fca082;\n",
              "            color:  #000000;\n",
              "            text-align:  center;\n",
              "        }#T_47bc23f0_1a62_11ec_9e23_0242ac1c0002row2_col0{\n",
              "            background-color:  #fee1d4;\n",
              "            color:  #000000;\n",
              "            text-align:  center;\n",
              "        }#T_47bc23f0_1a62_11ec_9e23_0242ac1c0002row3_col0{\n",
              "            background-color:  #ffece4;\n",
              "            color:  #000000;\n",
              "            text-align:  center;\n",
              "        }#T_47bc23f0_1a62_11ec_9e23_0242ac1c0002row4_col0,#T_47bc23f0_1a62_11ec_9e23_0242ac1c0002row5_col0{\n",
              "            background-color:  #fff0e8;\n",
              "            color:  #000000;\n",
              "            text-align:  center;\n",
              "        }#T_47bc23f0_1a62_11ec_9e23_0242ac1c0002row6_col0{\n",
              "            background-color:  #fff3ed;\n",
              "            color:  #000000;\n",
              "            text-align:  center;\n",
              "        }#T_47bc23f0_1a62_11ec_9e23_0242ac1c0002row7_col0{\n",
              "            background-color:  #fff4ef;\n",
              "            color:  #000000;\n",
              "            text-align:  center;\n",
              "        }#T_47bc23f0_1a62_11ec_9e23_0242ac1c0002row8_col0,#T_47bc23f0_1a62_11ec_9e23_0242ac1c0002row9_col0{\n",
              "            background-color:  #fff5f0;\n",
              "            color:  #000000;\n",
              "            text-align:  center;\n",
              "        }</style><table id=\"T_47bc23f0_1a62_11ec_9e23_0242ac1c0002\" ><thead>    <tr>        <th class=\"blank level0\" ></th>        <th class=\"col_heading level0 col0\" >country</th>    </tr></thead><tbody>\n",
              "                <tr>\n",
              "                        <th id=\"T_47bc23f0_1a62_11ec_9e23_0242ac1c0002level0_row0\" class=\"row_heading level0 row0\" >United States</th>\n",
              "                        <td id=\"T_47bc23f0_1a62_11ec_9e23_0242ac1c0002row0_col0\" class=\"data row0 col0\" >2555</td>\n",
              "            </tr>\n",
              "            <tr>\n",
              "                        <th id=\"T_47bc23f0_1a62_11ec_9e23_0242ac1c0002level0_row1\" class=\"row_heading level0 row1\" >India</th>\n",
              "                        <td id=\"T_47bc23f0_1a62_11ec_9e23_0242ac1c0002row1_col0\" class=\"data row1 col0\" >923</td>\n",
              "            </tr>\n",
              "            <tr>\n",
              "                        <th id=\"T_47bc23f0_1a62_11ec_9e23_0242ac1c0002level0_row2\" class=\"row_heading level0 row2\" >United Kingdom</th>\n",
              "                        <td id=\"T_47bc23f0_1a62_11ec_9e23_0242ac1c0002row2_col0\" class=\"data row2 col0\" >397</td>\n",
              "            </tr>\n",
              "            <tr>\n",
              "                        <th id=\"T_47bc23f0_1a62_11ec_9e23_0242ac1c0002level0_row3\" class=\"row_heading level0 row3\" >Japan</th>\n",
              "                        <td id=\"T_47bc23f0_1a62_11ec_9e23_0242ac1c0002row3_col0\" class=\"data row3 col0\" >226</td>\n",
              "            </tr>\n",
              "            <tr>\n",
              "                        <th id=\"T_47bc23f0_1a62_11ec_9e23_0242ac1c0002level0_row4\" class=\"row_heading level0 row4\" >South Korea</th>\n",
              "                        <td id=\"T_47bc23f0_1a62_11ec_9e23_0242ac1c0002row4_col0\" class=\"data row4 col0\" >183</td>\n",
              "            </tr>\n",
              "            <tr>\n",
              "                        <th id=\"T_47bc23f0_1a62_11ec_9e23_0242ac1c0002level0_row5\" class=\"row_heading level0 row5\" >Canada</th>\n",
              "                        <td id=\"T_47bc23f0_1a62_11ec_9e23_0242ac1c0002row5_col0\" class=\"data row5 col0\" >177</td>\n",
              "            </tr>\n",
              "            <tr>\n",
              "                        <th id=\"T_47bc23f0_1a62_11ec_9e23_0242ac1c0002level0_row6\" class=\"row_heading level0 row6\" >Spain</th>\n",
              "                        <td id=\"T_47bc23f0_1a62_11ec_9e23_0242ac1c0002row6_col0\" class=\"data row6 col0\" >134</td>\n",
              "            </tr>\n",
              "            <tr>\n",
              "                        <th id=\"T_47bc23f0_1a62_11ec_9e23_0242ac1c0002level0_row7\" class=\"row_heading level0 row7\" >France</th>\n",
              "                        <td id=\"T_47bc23f0_1a62_11ec_9e23_0242ac1c0002row7_col0\" class=\"data row7 col0\" >115</td>\n",
              "            </tr>\n",
              "            <tr>\n",
              "                        <th id=\"T_47bc23f0_1a62_11ec_9e23_0242ac1c0002level0_row8\" class=\"row_heading level0 row8\" >Egypt</th>\n",
              "                        <td id=\"T_47bc23f0_1a62_11ec_9e23_0242ac1c0002row8_col0\" class=\"data row8 col0\" >101</td>\n",
              "            </tr>\n",
              "            <tr>\n",
              "                        <th id=\"T_47bc23f0_1a62_11ec_9e23_0242ac1c0002level0_row9\" class=\"row_heading level0 row9\" >Turkey</th>\n",
              "                        <td id=\"T_47bc23f0_1a62_11ec_9e23_0242ac1c0002row9_col0\" class=\"data row9 col0\" >100</td>\n",
              "            </tr>\n",
              "    </tbody></table>"
            ],
            "text/plain": [
              "<pandas.io.formats.style.Styler at 0x7fd323c693d0>"
            ]
          },
          "metadata": {},
          "execution_count": 43
        }
      ]
    },
    {
      "cell_type": "code",
      "metadata": {
        "id": "jToHrBL3Lji9",
        "colab": {
          "base_uri": "https://localhost:8080/",
          "height": 692
        },
        "outputId": "343b0be5-3acd-4c3b-8664-04c60fa8421f"
      },
      "source": [
        "plt.figure(figsize=(10,10))\n",
        "sns.barplot(df_indic_1[:10].index,df_indic_1[:10], palette='Spectral')\n",
        "plt.title('Top 10 Countries of items')"
      ],
      "execution_count": 56,
      "outputs": [
        {
          "output_type": "stream",
          "name": "stderr",
          "text": [
            "/usr/local/lib/python3.7/dist-packages/seaborn/_decorators.py:43: FutureWarning:\n",
            "\n",
            "Pass the following variables as keyword args: x, y. From version 0.12, the only valid positional argument will be `data`, and passing other arguments without an explicit keyword will result in an error or misinterpretation.\n",
            "\n"
          ]
        },
        {
          "output_type": "execute_result",
          "data": {
            "text/plain": [
              "Text(0.5, 1.0, 'Top 10 Countries of items')"
            ]
          },
          "metadata": {},
          "execution_count": 56
        },
        {
          "output_type": "display_data",
          "data": {
            "image/png": "[encoded data removed]",
            "text/plain": [
              "<Figure size 720x720 with 1 Axes>"
            ]
          },
          "metadata": {
            "needs_background": "light"
          }
        }
      ]
    },
    {
      "cell_type": "code",
      "metadata": {
        "id": "B9HGKzViLjli",
        "colab": {
          "base_uri": "https://localhost:8080/"
        },
        "outputId": "4da0492e-27e5-4704-cd16-f759ff4a8022"
      },
      "source": [
        "df_indic_1[:10].index\n"
      ],
      "execution_count": 50,
      "outputs": [
        {
          "output_type": "execute_result",
          "data": {
            "text/plain": [
              "Index(['United States', 'India', 'United Kingdom', 'Japan', 'South Korea',\n",
              "       'Canada', 'Spain', 'France', 'Egypt', 'Turkey'],\n",
              "      dtype='object')"
            ]
          },
          "metadata": {},
          "execution_count": 50
        }
      ]
    },
    {
      "cell_type": "markdown",
      "metadata": {
        "id": "HAb75aJD5mlU"
      },
      "source": [
        "# Recommender System\n"
      ]
    },
    {
      "cell_type": "code",
      "metadata": {
        "id": "OI9xGQtTLi9o"
      },
      "source": [
        "from sklearn.feature_extraction.text import TfidfVectorizer"
      ],
      "execution_count": 57,
      "outputs": []
    },
    {
      "cell_type": "code",
      "metadata": {
        "id": "TCvCjvwAdWyC"
      },
      "source": [
        "object_tfid = TfidfVectorizer(stop_words='english')\n",
        "#Deal with empty descriptions\n",
        "df['description'] = df['description'].fillna('')\n",
        "tfidf_matrix = object_tfid.fit_transform(df['description'])\n"
      ],
      "execution_count": 60,
      "outputs": []
    },
    {
      "cell_type": "code",
      "metadata": {
        "id": "X393PwO45or6"
      },
      "source": [
        "from sklearn.metrics.pairwise import linear_kernel\n",
        "# matrix cosine metrics\n",
        "cosine_sim = linear_kernel(tfidf_matrix, tfidf_matrix)"
      ],
      "execution_count": 61,
      "outputs": []
    },
    {
      "cell_type": "code",
      "metadata": {
        "id": "B19eL0vIeBtt"
      },
      "source": [
        "# giving id to each item\n",
        "id_item=pd.Series(df.index, index=df['title'])"
      ],
      "execution_count": 64,
      "outputs": []
    },
    {
      "cell_type": "code",
      "metadata": {
        "id": "GlpUPrQweCOo"
      },
      "source": [
        "def recomender(title, cosine_sim=cosine_sim):\n",
        "    idx = id_item[title]\n",
        "\n",
        "    scores = list(enumerate(cosine_sim[idx]))\n",
        "\n",
        "    scores = sorted(scores, key=lambda x: x[1], reverse=True)\n",
        "    scores = scores[:10]\n",
        "\n",
        "    movie_index = [i[0] for i in scores]\n",
        "\n",
        "    # Return the top 10 most similar movies\n",
        "    print(\"*\"*40+\"\\n Recommendation for \"+title+\"\\n\"+\"*\"*40)\n",
        "    print(df['title'].iloc[movie_index])\n",
        "    print(\"*\"*42)"
      ],
      "execution_count": 79,
      "outputs": []
    },
    {
      "cell_type": "code",
      "metadata": {
        "colab": {
          "base_uri": "https://localhost:8080/"
        },
        "id": "MlIGCmFSg1m0",
        "outputId": "33614855-0d50-4bd0-b68f-e2f52f242858"
      },
      "source": [
        "#Recommand a Korean Drama, we see that some recomendations correlated to K-dramas\n",
        "recomender('Itaewon Class')"
      ],
      "execution_count": 84,
      "outputs": [
        {
          "output_type": "stream",
          "name": "stdout",
          "text": [
            "****************************************\n",
            " Recommendation for Itaewon Class\n",
            "****************************************\n",
            "3083                  Itaewon Class\n",
            "5161                     Reply 1988\n",
            "2777                      Hollywood\n",
            "5130                Record of Youth\n",
            "4740          Pahuyut Fighting Beat\n",
            "3968             Marvel's Luke Cage\n",
            "4373              Mystic Pop-up Bar\n",
            "625     Austin Powers in Goldmember\n",
            "1300                         Cheers\n",
            "7666                  World of Winx\n",
            "Name: title, dtype: object\n",
            "******************************************\n"
          ]
        }
      ]
    },
    {
      "cell_type": "code",
      "metadata": {
        "colab": {
          "base_uri": "https://localhost:8080/"
        },
        "id": "cgbjca8NeCSv",
        "outputId": "58149820-485f-419b-8a48-8ab28af91ed1"
      },
      "source": [
        "recomender('Spider-Man 3')"
      ],
      "execution_count": 82,
      "outputs": [
        {
          "output_type": "stream",
          "name": "stdout",
          "text": [
            "****************************************\n",
            " Recommendation for Spider-Man 3\n",
            "****************************************\n",
            "5753                                    Spider-Man 3\n",
            "1893         Dumb and Dumberer: When Harry Met Lloyd\n",
            "3958    Marvel & ESPN Films Present: 1 of 1: Genesis\n",
            "327                                After Porn Ends 3\n",
            "7781                                            Zoom\n",
            "1432                        Club Friday The Series 7\n",
            "1433                        Club Friday The Series 8\n",
            "7215                 Trevor Noah: Afraid of the Dark\n",
            "3213                        JoJo's Bizarre Adventure\n",
            "5112                                        Reaction\n",
            "Name: title, dtype: object\n",
            "******************************************\n"
          ]
        }
      ]
    },
    {
      "cell_type": "code",
      "metadata": {
        "colab": {
          "base_uri": "https://localhost:8080/"
        },
        "id": "U0ovWZmFeCWc",
        "outputId": "7cd96247-3de3-49cc-ab1d-331f18c9d18c"
      },
      "source": [
        "recomender('American Horror Story')"
      ],
      "execution_count": 83,
      "outputs": [
        {
          "output_type": "stream",
          "name": "stdout",
          "text": [
            "****************************************\n",
            " Recommendation for American Horror Story\n",
            "****************************************\n",
            "468                                American Horror Story\n",
            "583                                 Arrested Development\n",
            "2832                                      House of Cards\n",
            "924                             Bill Nye Saves the World\n",
            "2494                                      Goodnight DJ 1\n",
            "4677                             Orange Is the New Black\n",
            "3075                          It Takes a Man and a Woman\n",
            "2405                                       Ghosts of War\n",
            "5548    Shaurya: It Takes Courage to Make Right... Right\n",
            "1548                              Cuba and the Cameraman\n",
            "Name: title, dtype: object\n",
            "******************************************\n"
          ]
        }
      ]
    }
  ]
}